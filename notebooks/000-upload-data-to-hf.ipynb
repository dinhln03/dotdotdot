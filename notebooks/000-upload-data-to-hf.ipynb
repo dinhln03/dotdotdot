{
 "cells": [
  {
   "cell_type": "markdown",
   "metadata": {},
   "source": [
    "#### In this notebook 000, we will upload dataset downloaded from Kaggle, which is in data/raw folder and upload to Huggingface hub 🤗. Feel free to skip this notebook!"
   ]
  },
  {
   "cell_type": "markdown",
   "metadata": {},
   "source": [
    "### Setup"
   ]
  },
  {
   "cell_type": "code",
   "execution_count": 1,
   "metadata": {},
   "outputs": [],
   "source": [
    "%load_ext autoreload\n",
    "%autoreload 2"
   ]
  },
  {
   "cell_type": "code",
   "execution_count": 2,
   "metadata": {},
   "outputs": [],
   "source": [
    "from pydantic import BaseModel\n",
    "import sys\n",
    "import datasets\n",
    "datasets.logging.set_verbosity_error()\n",
    "\n",
    "sys.path.insert(0, \"..\")\n",
    "\n",
    "from datasets import load_dataset"
   ]
  },
  {
   "cell_type": "markdown",
   "metadata": {},
   "source": [
    "### Load Configuration"
   ]
  },
  {
   "cell_type": "code",
   "execution_count": 3,
   "metadata": {},
   "outputs": [
    {
     "name": "stdout",
     "output_type": "stream",
     "text": [
      "\u001b[32m2024-12-04 02:22:34.839\u001b[0m | \u001b[1mINFO    \u001b[0m | \u001b[36msrc.config.dataset_config\u001b[0m:\u001b[36m<module>\u001b[0m:\u001b[36m29\u001b[0m - \u001b[1mDataset Path: dinhlnd1610/HM-Personalized-Fashion-Recommendations\u001b[0m\n"
     ]
    }
   ],
   "source": [
    "from src.config.dataset_config import dataset_config"
   ]
  },
  {
   "cell_type": "markdown",
   "metadata": {},
   "source": [
    "### Load csv file as Dataset format"
   ]
  },
  {
   "cell_type": "code",
   "execution_count": 4,
   "metadata": {},
   "outputs": [
    {
     "data": {
      "text/plain": [
       "{'article_id': 108775015,\n",
       " 'product_code': 108775,\n",
       " 'prod_name': 'Strap top',\n",
       " 'product_type_no': 253,\n",
       " 'product_type_name': 'Vest top',\n",
       " 'product_group_name': 'Garment Upper body',\n",
       " 'graphical_appearance_no': 1010016,\n",
       " 'graphical_appearance_name': 'Solid',\n",
       " 'colour_group_code': 9,\n",
       " 'colour_group_name': 'Black',\n",
       " 'perceived_colour_value_id': 4,\n",
       " 'perceived_colour_value_name': 'Dark',\n",
       " 'perceived_colour_master_id': 5,\n",
       " 'perceived_colour_master_name': 'Black',\n",
       " 'department_no': 1676,\n",
       " 'department_name': 'Jersey Basic',\n",
       " 'index_code': 'A',\n",
       " 'index_name': 'Ladieswear',\n",
       " 'index_group_no': 1,\n",
       " 'index_group_name': 'Ladieswear',\n",
       " 'section_no': 16,\n",
       " 'section_name': 'Womens Everyday Basics',\n",
       " 'garment_group_no': 1002,\n",
       " 'garment_group_name': 'Jersey Basic',\n",
       " 'detail_desc': 'Jersey top with narrow shoulder straps.'}"
      ]
     },
     "execution_count": 4,
     "metadata": {},
     "output_type": "execute_result"
    }
   ],
   "source": [
    "articles_dataset = load_dataset(\"csv\", data_files= \"../data/raw/articles.csv\", delimiter=\",\")\n",
    "articles_dataset[\"train\"][0]"
   ]
  },
  {
   "cell_type": "code",
   "execution_count": 5,
   "metadata": {},
   "outputs": [
    {
     "data": {
      "text/plain": [
       "{'customer_id': '00000dbacae5abe5e23885899a1fa44253a17956c6d1c3d25f88aa139fdfc657',\n",
       " 'FN': None,\n",
       " 'Active': None,\n",
       " 'club_member_status': 'ACTIVE',\n",
       " 'fashion_news_frequency': 'NONE',\n",
       " 'age': 49.0,\n",
       " 'postal_code': '52043ee2162cf5aa7ee79974281641c6f11a68d276429a91f8ca0d4b6efa8100'}"
      ]
     },
     "execution_count": 5,
     "metadata": {},
     "output_type": "execute_result"
    }
   ],
   "source": [
    "customers_dataset = load_dataset(\"csv\", data_files= \"../data/raw/customers.csv\", delimiter=\",\")\n",
    "customers_dataset[\"train\"][0]"
   ]
  },
  {
   "cell_type": "code",
   "execution_count": 6,
   "metadata": {},
   "outputs": [
    {
     "data": {
      "text/plain": [
       "{'t_dat': '2018-09-20',\n",
       " 'customer_id': '000058a12d5b43e67d225668fa1f8d618c13dc232df0cad8ffe7ad4a1091e318',\n",
       " 'article_id': 663713001,\n",
       " 'price': 0.0508305084745762,\n",
       " 'sales_channel_id': 2}"
      ]
     },
     "execution_count": 6,
     "metadata": {},
     "output_type": "execute_result"
    }
   ],
   "source": [
    "transactions_dataset = load_dataset(\"csv\", data_files= \"../data/raw/transactions_train.csv\", delimiter=\",\")\n",
    "transactions_dataset[\"train\"][0]"
   ]
  },
  {
   "cell_type": "markdown",
   "metadata": {},
   "source": [
    "### Push to Huggingface hub"
   ]
  },
  {
   "cell_type": "code",
   "execution_count": 7,
   "metadata": {},
   "outputs": [
    {
     "data": {
      "application/vnd.jupyter.widget-view+json": {
       "model_id": "9b824ad8696f4d5a96d38b6a41f61cb2",
       "version_major": 2,
       "version_minor": 0
      },
      "text/plain": [
       "Uploading the dataset shards:   0%|          | 0/1 [00:00<?, ?it/s]"
      ]
     },
     "metadata": {},
     "output_type": "display_data"
    },
    {
     "data": {
      "application/vnd.jupyter.widget-view+json": {
       "model_id": "0a7c473ad94247839877b20c7070e954",
       "version_major": 2,
       "version_minor": 0
      },
      "text/plain": [
       "Creating parquet from Arrow format:   0%|          | 0/106 [00:00<?, ?ba/s]"
      ]
     },
     "metadata": {},
     "output_type": "display_data"
    },
    {
     "data": {
      "application/vnd.jupyter.widget-view+json": {
       "model_id": "7e4c835e927247caabc010e29a9dda14",
       "version_major": 2,
       "version_minor": 0
      },
      "text/plain": [
       "Uploading the dataset shards:   0%|          | 0/1 [00:00<?, ?it/s]"
      ]
     },
     "metadata": {},
     "output_type": "display_data"
    },
    {
     "data": {
      "application/vnd.jupyter.widget-view+json": {
       "model_id": "781e8f835c544f83a321b3fcff7f5cad",
       "version_major": 2,
       "version_minor": 0
      },
      "text/plain": [
       "Creating parquet from Arrow format:   0%|          | 0/1372 [00:00<?, ?ba/s]"
      ]
     },
     "metadata": {},
     "output_type": "display_data"
    },
    {
     "data": {
      "application/vnd.jupyter.widget-view+json": {
       "model_id": "b8f1a6b9590f4bb395438be126c36c5d",
       "version_major": 2,
       "version_minor": 0
      },
      "text/plain": [
       "README.md:   0%|          | 0.00/1.40k [00:00<?, ?B/s]"
      ]
     },
     "metadata": {},
     "output_type": "display_data"
    },
    {
     "data": {
      "application/vnd.jupyter.widget-view+json": {
       "model_id": "56d409def0ff4dd0b69be88c9d36fdd5",
       "version_major": 2,
       "version_minor": 0
      },
      "text/plain": [
       "Uploading the dataset shards:   0%|          | 0/7 [00:00<?, ?it/s]"
      ]
     },
     "metadata": {},
     "output_type": "display_data"
    },
    {
     "data": {
      "application/vnd.jupyter.widget-view+json": {
       "model_id": "86f9a684bd9b4d7db6c859dc30b55009",
       "version_major": 2,
       "version_minor": 0
      },
      "text/plain": [
       "Creating parquet from Arrow format:   0%|          | 0/4542 [00:00<?, ?ba/s]"
      ]
     },
     "metadata": {},
     "output_type": "display_data"
    },
    {
     "data": {
      "application/vnd.jupyter.widget-view+json": {
       "model_id": "1774e38981174ac2a064cef2831ba8b8",
       "version_major": 2,
       "version_minor": 0
      },
      "text/plain": [
       "Creating parquet from Arrow format:   0%|          | 0/4542 [00:00<?, ?ba/s]"
      ]
     },
     "metadata": {},
     "output_type": "display_data"
    },
    {
     "data": {
      "application/vnd.jupyter.widget-view+json": {
       "model_id": "6251bdf9cecd4439b5a4367285459cc3",
       "version_major": 2,
       "version_minor": 0
      },
      "text/plain": [
       "Creating parquet from Arrow format:   0%|          | 0/4542 [00:00<?, ?ba/s]"
      ]
     },
     "metadata": {},
     "output_type": "display_data"
    },
    {
     "data": {
      "application/vnd.jupyter.widget-view+json": {
       "model_id": "32eaea3625d6445ea5ebafac112b4f76",
       "version_major": 2,
       "version_minor": 0
      },
      "text/plain": [
       "Creating parquet from Arrow format:   0%|          | 0/4542 [00:00<?, ?ba/s]"
      ]
     },
     "metadata": {},
     "output_type": "display_data"
    },
    {
     "data": {
      "application/vnd.jupyter.widget-view+json": {
       "model_id": "09008ba875154e878c5689ab3484915b",
       "version_major": 2,
       "version_minor": 0
      },
      "text/plain": [
       "Creating parquet from Arrow format:   0%|          | 0/4542 [00:00<?, ?ba/s]"
      ]
     },
     "metadata": {},
     "output_type": "display_data"
    },
    {
     "data": {
      "application/vnd.jupyter.widget-view+json": {
       "model_id": "f658855da8ea4a3e95d433ed3f29aa87",
       "version_major": 2,
       "version_minor": 0
      },
      "text/plain": [
       "Creating parquet from Arrow format:   0%|          | 0/4542 [00:00<?, ?ba/s]"
      ]
     },
     "metadata": {},
     "output_type": "display_data"
    },
    {
     "data": {
      "application/vnd.jupyter.widget-view+json": {
       "model_id": "141867caaf34409690677634f956520f",
       "version_major": 2,
       "version_minor": 0
      },
      "text/plain": [
       "Creating parquet from Arrow format:   0%|          | 0/4542 [00:00<?, ?ba/s]"
      ]
     },
     "metadata": {},
     "output_type": "display_data"
    },
    {
     "data": {
      "application/vnd.jupyter.widget-view+json": {
       "model_id": "c053a598d6fc4909a6f2c99594dcc510",
       "version_major": 2,
       "version_minor": 0
      },
      "text/plain": [
       "README.md:   0%|          | 0.00/1.93k [00:00<?, ?B/s]"
      ]
     },
     "metadata": {},
     "output_type": "display_data"
    },
    {
     "data": {
      "text/plain": [
       "CommitInfo(commit_url='https://huggingface.co/datasets/dinhlnd1610/HM-Personalized-Fashion-Recommendations/commit/c335faf3386d3c760997c37ba4cc1b0d90265c1f', commit_message='Upload dataset', commit_description='', oid='c335faf3386d3c760997c37ba4cc1b0d90265c1f', pr_url=None, repo_url=RepoUrl('https://huggingface.co/datasets/dinhlnd1610/HM-Personalized-Fashion-Recommendations', endpoint='https://huggingface.co', repo_type='dataset', repo_id='dinhlnd1610/HM-Personalized-Fashion-Recommendations'), pr_revision=None, pr_num=None)"
      ]
     },
     "execution_count": 7,
     "metadata": {},
     "output_type": "execute_result"
    }
   ],
   "source": [
    "articles_dataset.push_to_hub(dataset_config.HF_DATASET_PATH, config_name=\"articles\", token=dataset_config.HF_TOKEN)\n",
    "customers_dataset.push_to_hub(dataset_config.HF_DATASET_PATH, config_name=\"customers\", token=dataset_config.HF_TOKEN)\n",
    "transactions_dataset.push_to_hub(dataset_config.HF_DATASET_PATH, config_name=\"transactions\", token=dataset_config.HF_TOKEN)"
   ]
  },
  {
   "cell_type": "markdown",
   "metadata": {},
   "source": [
    "### (Test) Load dataset again from Huggingface hub"
   ]
  },
  {
   "cell_type": "code",
   "execution_count": 10,
   "metadata": {},
   "outputs": [
    {
     "data": {
      "text/plain": [
       "{'article_id': 108775015,\n",
       " 'product_code': 108775,\n",
       " 'prod_name': 'Strap top',\n",
       " 'product_type_no': 253,\n",
       " 'product_type_name': 'Vest top',\n",
       " 'product_group_name': 'Garment Upper body',\n",
       " 'graphical_appearance_no': 1010016,\n",
       " 'graphical_appearance_name': 'Solid',\n",
       " 'colour_group_code': 9,\n",
       " 'colour_group_name': 'Black',\n",
       " 'perceived_colour_value_id': 4,\n",
       " 'perceived_colour_value_name': 'Dark',\n",
       " 'perceived_colour_master_id': 5,\n",
       " 'perceived_colour_master_name': 'Black',\n",
       " 'department_no': 1676,\n",
       " 'department_name': 'Jersey Basic',\n",
       " 'index_code': 'A',\n",
       " 'index_name': 'Ladieswear',\n",
       " 'index_group_no': 1,\n",
       " 'index_group_name': 'Ladieswear',\n",
       " 'section_no': 16,\n",
       " 'section_name': 'Womens Everyday Basics',\n",
       " 'garment_group_no': 1002,\n",
       " 'garment_group_name': 'Jersey Basic',\n",
       " 'detail_desc': 'Jersey top with narrow shoulder straps.'}"
      ]
     },
     "execution_count": 10,
     "metadata": {},
     "output_type": "execute_result"
    }
   ],
   "source": [
    "articles = load_dataset(\n",
    "    dataset_config.HF_DATASET_PATH,\n",
    "    name=\"articles\",\n",
    "    split=\"train\",\n",
    "    trust_remote_code=True,\n",
    ")\n",
    "articles[0]"
   ]
  },
  {
   "cell_type": "code",
   "execution_count": 12,
   "metadata": {},
   "outputs": [
    {
     "data": {
      "application/vnd.jupyter.widget-view+json": {
       "model_id": "870a31fb6d4f42618879b0016707a083",
       "version_major": 2,
       "version_minor": 0
      },
      "text/plain": [
       "Downloading data:   0%|          | 0.00/175M [00:00<?, ?B/s]"
      ]
     },
     "metadata": {},
     "output_type": "display_data"
    },
    {
     "data": {
      "application/vnd.jupyter.widget-view+json": {
       "model_id": "86bff54c9f2644ea93ea1aa45fe4bd33",
       "version_major": 2,
       "version_minor": 0
      },
      "text/plain": [
       "Generating train split:   0%|          | 0/1371980 [00:00<?, ? examples/s]"
      ]
     },
     "metadata": {},
     "output_type": "display_data"
    },
    {
     "data": {
      "text/plain": [
       "{'customer_id': '00000dbacae5abe5e23885899a1fa44253a17956c6d1c3d25f88aa139fdfc657',\n",
       " 'FN': None,\n",
       " 'Active': None,\n",
       " 'club_member_status': 'ACTIVE',\n",
       " 'fashion_news_frequency': 'NONE',\n",
       " 'age': 49.0,\n",
       " 'postal_code': '52043ee2162cf5aa7ee79974281641c6f11a68d276429a91f8ca0d4b6efa8100'}"
      ]
     },
     "execution_count": 12,
     "metadata": {},
     "output_type": "execute_result"
    }
   ],
   "source": [
    "customers = load_dataset(\n",
    "    dataset_config.HF_DATASET_PATH,\n",
    "    name=\"customers\",\n",
    "    split=\"train\",\n",
    "    trust_remote_code=True,\n",
    ")\n",
    "customers[0]"
   ]
  },
  {
   "cell_type": "code",
   "execution_count": 11,
   "metadata": {},
   "outputs": [
    {
     "data": {
      "application/vnd.jupyter.widget-view+json": {
       "model_id": "15eba099be01457880a4f02124d0f7bb",
       "version_major": 2,
       "version_minor": 0
      },
      "text/plain": [
       "Downloading data:   0%|          | 0.00/132M [00:00<?, ?B/s]"
      ]
     },
     "metadata": {},
     "output_type": "display_data"
    },
    {
     "data": {
      "application/vnd.jupyter.widget-view+json": {
       "model_id": "701e6479481e4ee5910eedd122ef57cc",
       "version_major": 2,
       "version_minor": 0
      },
      "text/plain": [
       "Downloading data:   0%|          | 0.00/125M [00:00<?, ?B/s]"
      ]
     },
     "metadata": {},
     "output_type": "display_data"
    },
    {
     "data": {
      "application/vnd.jupyter.widget-view+json": {
       "model_id": "af4e112f21b847309698958aa57901b0",
       "version_major": 2,
       "version_minor": 0
      },
      "text/plain": [
       "Downloading data:   0%|          | 0.00/120M [00:00<?, ?B/s]"
      ]
     },
     "metadata": {},
     "output_type": "display_data"
    },
    {
     "data": {
      "application/vnd.jupyter.widget-view+json": {
       "model_id": "19317bed30f84007933712bce0f7920e",
       "version_major": 2,
       "version_minor": 0
      },
      "text/plain": [
       "Downloading data:   0%|          | 0.00/128M [00:00<?, ?B/s]"
      ]
     },
     "metadata": {},
     "output_type": "display_data"
    },
    {
     "data": {
      "application/vnd.jupyter.widget-view+json": {
       "model_id": "76ef815054514210a31b9cdbe3395645",
       "version_major": 2,
       "version_minor": 0
      },
      "text/plain": [
       "Downloading data:   0%|          | 0.00/140M [00:00<?, ?B/s]"
      ]
     },
     "metadata": {},
     "output_type": "display_data"
    },
    {
     "data": {
      "application/vnd.jupyter.widget-view+json": {
       "model_id": "9fa792940b484716b150f80f632dd5bd",
       "version_major": 2,
       "version_minor": 0
      },
      "text/plain": [
       "Downloading data:   0%|          | 0.00/121M [00:00<?, ?B/s]"
      ]
     },
     "metadata": {},
     "output_type": "display_data"
    },
    {
     "data": {
      "application/vnd.jupyter.widget-view+json": {
       "model_id": "962543e8775a456eab10020bed640195",
       "version_major": 2,
       "version_minor": 0
      },
      "text/plain": [
       "Downloading data:   0%|          | 0.00/131M [00:00<?, ?B/s]"
      ]
     },
     "metadata": {},
     "output_type": "display_data"
    },
    {
     "data": {
      "application/vnd.jupyter.widget-view+json": {
       "model_id": "048a2e1af15043b182b15f45a462ec35",
       "version_major": 2,
       "version_minor": 0
      },
      "text/plain": [
       "Generating train split:   0%|          | 0/31788324 [00:00<?, ? examples/s]"
      ]
     },
     "metadata": {},
     "output_type": "display_data"
    },
    {
     "data": {
      "text/plain": [
       "{'t_dat': '2018-09-20',\n",
       " 'customer_id': '000058a12d5b43e67d225668fa1f8d618c13dc232df0cad8ffe7ad4a1091e318',\n",
       " 'article_id': 663713001,\n",
       " 'price': 0.0508305084745762,\n",
       " 'sales_channel_id': 2}"
      ]
     },
     "execution_count": 11,
     "metadata": {},
     "output_type": "execute_result"
    }
   ],
   "source": [
    "transactions = load_dataset(\n",
    "    dataset_config.HF_DATASET_PATH,\n",
    "    name=\"transactions\",\n",
    "    split=\"train\",\n",
    "    trust_remote_code=True,\n",
    ")\n",
    "transactions[0]"
   ]
  }
 ],
 "metadata": {
  "kernelspec": {
   "display_name": "Python 3",
   "language": "python",
   "name": "python3"
  },
  "language_info": {
   "codemirror_mode": {
    "name": "ipython",
    "version": 3
   },
   "file_extension": ".py",
   "mimetype": "text/x-python",
   "name": "python",
   "nbconvert_exporter": "python",
   "pygments_lexer": "ipython3",
   "version": "3.11.9"
  }
 },
 "nbformat": 4,
 "nbformat_minor": 4
}
